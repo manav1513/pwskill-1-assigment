{
 "cells": [
  {
   "cell_type": "code",
   "execution_count": 2,
   "id": "cd051f53-f514-4752-92c7-1bd9842c68aa",
   "metadata": {},
   "outputs": [
    {
     "data": {
      "text/plain": [
       "'question 1 ans =  Guido van Rossum'"
      ]
     },
     "execution_count": 2,
     "metadata": {},
     "output_type": "execute_result"
    }
   ],
   "source": [
    "'question 1 ans =  Guido van Rossum'"
   ]
  },
  {
   "cell_type": "code",
   "execution_count": 3,
   "id": "e2e097fa-4b88-4c82-b4e9-7341982499b4",
   "metadata": {},
   "outputs": [],
   "source": [
    "# question 2 = Which type of programming does python support \n",
    "\n",
    "# ans = Python is a multi-paradigm programming language that supports several programming paradigms including:\n",
    "\n",
    "# Object-Oriented Programming (OOP)\n",
    "# Structured Programming\n",
    "# Functional Programming."
   ]
  },
  {
   "cell_type": "code",
   "execution_count": 4,
   "id": "26858c7b-7d85-4030-89dc-3c9abc63d428",
   "metadata": {},
   "outputs": [],
   "source": [
    "# question 3 =Is python case sensitive when dealing with identifiers\n",
    "\n",
    "# ans        =            Yes, Python is case sensitive "
   ]
  },
  {
   "cell_type": "code",
   "execution_count": 5,
   "id": "23101615-8580-4dbe-9e2b-990fc5345fd0",
   "metadata": {},
   "outputs": [],
   "source": [
    "# question 4 = Correct extension of the python file\n",
    "\n",
    "#  ans =             The correct file extension for a Python source code file is \".py\".\n",
    "\n",
    "\n"
   ]
  },
  {
   "cell_type": "code",
   "execution_count": 6,
   "id": "faf8c88e-c2d9-4637-80e8-9f177f65b8d3",
   "metadata": {},
   "outputs": [],
   "source": [
    "# question 5 = Is python code compiled or interpreted\n",
    "\n",
    "# ans =             Python is an interpreted language"
   ]
  },
  {
   "cell_type": "code",
   "execution_count": 7,
   "id": "ef5b945e-c095-4a1c-8b48-89d8db6591d6",
   "metadata": {},
   "outputs": [],
   "source": [
    "# Question 6 = Name a few block of code used to define in python language \n",
    "\n",
    "# ans = In Python, blocks of code are defined using indentation. Some common blocks of code in Python include:\n",
    "\n",
    "#     Functions (def)\n",
    "#     Classes (class)\n",
    "#     Conditional statements (if, elif, else)\n",
    "#     Loops (for, while)\n"
   ]
  },
  {
   "cell_type": "code",
   "execution_count": 8,
   "id": "aaa17bd7-4bea-4cad-b652-1b2956a5800a",
   "metadata": {},
   "outputs": [],
   "source": [
    "# question 7 = State a character used to give single line comment in python \n",
    "\n",
    "# ans =             In Python, the pound (#) symbol is used to indicate a single line comment."
   ]
  },
  {
   "cell_type": "code",
   "execution_count": 9,
   "id": "9ffd24db-16ed-4d1b-864a-543a21af71f0",
   "metadata": {},
   "outputs": [],
   "source": [
    "# question 8 = Mention function which can help us to find the version of python that we are currently working on\n",
    "\n",
    "# ans =        You can use the sys module and the version attribute to find the version of Python that you're currently working on"
   ]
  },
  {
   "cell_type": "code",
   "execution_count": 10,
   "id": "6b541ea2-6168-4ef6-aa4c-1eba4a979915",
   "metadata": {},
   "outputs": [],
   "source": [
    "# question 9 = Python support the creation of anonymous function at runtime , using a construct called \n",
    "\n",
    "# ans =             In Python, anonymous functions can be created at runtime using a construct called \"lambda expressions\""
   ]
  },
  {
   "cell_type": "code",
   "execution_count": 11,
   "id": "26f91f44-df99-4bd5-84b6-9b37f7271577",
   "metadata": {},
   "outputs": [],
   "source": [
    "# question 10 = What dose pip stand for\n",
    "\n",
    "# ans = PIP stands for \"Pip Installs Packages\". It is a package management system for Python that allows you to install, \n",
    "#       upgrade, and remove packages easily. With pip, you can install packages from the Python Package Index (PyPI) or other indexes"
   ]
  },
  {
   "cell_type": "code",
   "execution_count": 12,
   "id": "21c3a9a6-f755-4b13-a474-1d10b3c211a4",
   "metadata": {},
   "outputs": [],
   "source": [
    "# question 11 = Mention few built-in function in python \n",
    "\n",
    "# ans = Python has many built-in functions that you can use in your code. Here are some of the most commonly used ones:\n",
    "\n",
    "# print(): prints the output to the console\n",
    "# len(): returns the length of a string, list, tuple, dictionary, or other iterable object\n",
    "# str(), int(), float(), bool(): convert values to strings, integers, floating-point numbers, and booleans, respectively\n",
    "# type(): returns the type of an object\n"
   ]
  },
  {
   "cell_type": "code",
   "execution_count": 13,
   "id": "66b53c12-3f8d-4f42-a336-60bdf5610cf3",
   "metadata": {},
   "outputs": [],
   "source": [
    "# question 12 = What is maximum possible length of an identifier in python \n",
    "\n",
    "# ans =  In Python, there is no specific limit on the maximum length of an \n",
    "#identifier (such as a variable name, function name, or class name).\n",
    "\n"
   ]
  },
  {
   "cell_type": "code",
   "execution_count": 14,
   "id": "80d8af7d-8448-40e7-a2c9-389674a91493",
   "metadata": {},
   "outputs": [],
   "source": [
    "# question 13 = What are benefit of using python \n",
    "\n",
    "# ans = There are many benefits to using Python as a programming language, including:\n",
    "\n",
    "# Easy to learn and use: Python has a simple and intuitive syntax that makes it easy to learn and use, even for beginners.\n",
    "\n",
    "# Versatile: Python can be used for a wide range of tasks, including web development, scientific computing, data analysis, \n",
    "# artificial intelligence, and more.\n",
    "\n",
    "# Large community: Python has a large and active community of users, which provides a wealth of resources, such as tutorials,\n",
    "# libraries, and support forums.\n",
    "\n"
   ]
  },
  {
   "cell_type": "code",
   "execution_count": 15,
   "id": "a1083575-aac3-4962-9600-16976b43a9e5",
   "metadata": {},
   "outputs": [],
   "source": [
    "# question 14 = How is memory managed in python \n",
    "\n",
    "# ans = In Python, memory management is handled automatically by the Python memory manager, which is part of the Python interpreter. \n",
    "#     The Python memory manager keeps track of all the objects that are created during the execution of a program and ensures that memory \n",
    "#     is allocated and deallocated as needed.\n"
   ]
  },
  {
   "cell_type": "code",
   "execution_count": null,
   "id": "7c4f6d94-fe3d-4a4d-aa13-57333b908ba0",
   "metadata": {},
   "outputs": [],
   "source": [
    "question 15"
   ]
  }
 ],
 "metadata": {
  "kernelspec": {
   "display_name": "Python 3 (ipykernel)",
   "language": "python",
   "name": "python3"
  },
  "language_info": {
   "codemirror_mode": {
    "name": "ipython",
    "version": 3
   },
   "file_extension": ".py",
   "mimetype": "text/x-python",
   "name": "python",
   "nbconvert_exporter": "python",
   "pygments_lexer": "ipython3",
   "version": "3.10.8"
  }
 },
 "nbformat": 4,
 "nbformat_minor": 5
}
